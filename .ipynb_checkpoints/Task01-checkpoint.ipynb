{
 "cells": [
  {
   "cell_type": "markdown",
   "metadata": {
    "ExecuteTime": {
     "end_time": "2020-12-13T15:00:44.215854Z",
     "start_time": "2020-12-13T15:00:44.197882Z"
    }
   },
   "source": [
    "<center><h1>第一章 预备知识</h1></center>"
   ]
  },
  {
   "cell_type": "markdown",
   "metadata": {},
   "source": [
    "## 一、Python基础\n",
    "### 1. 列表推导式与条件赋值\n",
    "\n",
    "在生成一个数字序列的时候，在`Python`中可以如下写出："
   ]
  },
  {
   "cell_type": "code",
   "execution_count": 2,
   "metadata": {
    "ExecuteTime": {
     "end_time": "2020-12-13T15:04:15.401772Z",
     "start_time": "2020-12-13T15:04:15.333181Z"
    }
   },
   "outputs": [
    {
     "data": {
      "text/plain": [
       "[0, 2, 4, 6, 8]"
      ]
     },
     "execution_count": 2,
     "metadata": {},
     "output_type": "execute_result"
    }
   ],
   "source": [
    "L = []\n",
    "def my_func(x):\n",
    "    return 2 * x\n",
    "\n",
    "for i in range(5):\n",
    "    L.append(my_func(i))\n",
    "\n",
    "L"
   ]
  },
  {
   "cell_type": "markdown",
   "metadata": {},
   "source": [
    "事实上可以利用列表推导式进行写法上的简化：`[* for i in *]`。其中，第一个`*`为映射函数，其输入为后面`i`指代的内容，第二个`*`表示迭代的对象。"
   ]
  },
  {
   "cell_type": "code",
   "execution_count": 3,
   "metadata": {
    "ExecuteTime": {
     "end_time": "2020-12-13T15:09:22.528764Z",
     "start_time": "2020-12-13T15:09:22.507774Z"
    }
   },
   "outputs": [
    {
     "data": {
      "text/plain": [
       "[0, 2, 4, 6, 8]"
      ]
     },
     "execution_count": 3,
     "metadata": {},
     "output_type": "execute_result"
    }
   ],
   "source": [
    "[my_func(i) for i in range(5)]"
   ]
  },
  {
   "cell_type": "markdown",
   "metadata": {},
   "source": [
    "列表表达式还支持多层嵌套，如下面的例子中第一个`for`为外层循环，第二个为内层循环："
   ]
  },
  {
   "cell_type": "code",
   "execution_count": 4,
   "metadata": {
    "ExecuteTime": {
     "end_time": "2020-12-13T15:11:25.033175Z",
     "start_time": "2020-12-13T15:11:25.015177Z"
    }
   },
   "outputs": [
    {
     "data": {
      "text/plain": [
       "['a_c', 'a_d', 'b_c', 'b_d']"
      ]
     },
     "execution_count": 4,
     "metadata": {},
     "output_type": "execute_result"
    }
   ],
   "source": [
    "[m + '_' + n for m in ['a', 'b'] for n in ['c', 'd']]"
   ]
  },
  {
   "cell_type": "markdown",
   "metadata": {},
   "source": [
    "除了列表推导式，另一个实用的语法糖是条件赋值，其形式为`value = a if condition else b`："
   ]
  },
  {
   "cell_type": "code",
   "execution_count": 5,
   "metadata": {
    "ExecuteTime": {
     "end_time": "2020-12-13T15:12:33.423702Z",
     "start_time": "2020-12-13T15:12:33.405700Z"
    }
   },
   "outputs": [
    {
     "data": {
      "text/plain": [
       "'cat'"
      ]
     },
     "execution_count": 5,
     "metadata": {},
     "output_type": "execute_result"
    }
   ],
   "source": [
    "value = 'cat' if 2 > 1 else 'dag'\n",
    "value"
   ]
  },
  {
   "cell_type": "code",
   "execution_count": 7,
   "metadata": {
    "ExecuteTime": {
     "end_time": "2020-12-13T15:14:44.378761Z",
     "start_time": "2020-12-13T15:14:44.358770Z"
    }
   },
   "outputs": [
    {
     "data": {
      "text/plain": [
       "[1, 2, 3, 4, 5, 5, 5]"
      ]
     },
     "execution_count": 7,
     "metadata": {},
     "output_type": "execute_result"
    }
   ],
   "source": [
    "# 下面举一个例子，截断列表中超过5的元素\n",
    "L = [1, 2, 3, 4, 5, 6, 7]\n",
    "[i if i <= 5 else 5 for i in L]"
   ]
  },
  {
   "cell_type": "markdown",
   "metadata": {
    "ExecuteTime": {
     "end_time": "2020-12-13T15:14:53.379051Z",
     "start_time": "2020-12-13T15:14:53.364052Z"
    }
   },
   "source": [
    "### 2. 匿名函数与map方法\n",
    "\n",
    "有一些函数的定义具有清晰简单的映射关系，例如上面的`my_func`函数，这时候可以用匿名函数的方法简洁地表示："
   ]
  },
  {
   "cell_type": "code",
   "execution_count": 9,
   "metadata": {
    "ExecuteTime": {
     "end_time": "2020-12-13T15:15:42.453633Z",
     "start_time": "2020-12-13T15:15:42.436670Z"
    }
   },
   "outputs": [
    {
     "data": {
      "text/plain": [
       "12"
      ]
     },
     "execution_count": 9,
     "metadata": {},
     "output_type": "execute_result"
    }
   ],
   "source": [
    "my_func = lambda x: 2 * x\n",
    "my_func(6)"
   ]
  },
  {
   "cell_type": "code",
   "execution_count": 10,
   "metadata": {
    "ExecuteTime": {
     "end_time": "2020-12-13T15:16:31.808831Z",
     "start_time": "2020-12-13T15:16:31.786837Z"
    }
   },
   "outputs": [
    {
     "data": {
      "text/plain": [
       "3"
      ]
     },
     "execution_count": 10,
     "metadata": {},
     "output_type": "execute_result"
    }
   ],
   "source": [
    "multi_para_func = lambda a, b: a + b\n",
    "multi_para_func(1, 2)"
   ]
  },
  {
   "cell_type": "markdown",
   "metadata": {},
   "source": [
    "但上面的用法其实违背了“匿名”的含义，事实上它往往在无需多处调用的场合进行使用，例如上面列表推导式中的例子，用户不关心函数的名字，只关心这种映射的关系："
   ]
  },
  {
   "cell_type": "code",
   "execution_count": 11,
   "metadata": {
    "ExecuteTime": {
     "end_time": "2020-12-13T15:17:32.006932Z",
     "start_time": "2020-12-13T15:17:31.983935Z"
    }
   },
   "outputs": [
    {
     "data": {
      "text/plain": [
       "[0, 2, 4, 6, 8]"
      ]
     },
     "execution_count": 11,
     "metadata": {},
     "output_type": "execute_result"
    }
   ],
   "source": [
    "[(lambda x: 2 * x)(i) for i in range(5)]"
   ]
  },
  {
   "cell_type": "markdown",
   "metadata": {},
   "source": [
    "对于上述的这种列表推导式的匿名函数映射，`Python`中提供了`map`函数来完成，它返回的是一个`map`对象，需要通过`list`转为列表："
   ]
  },
  {
   "cell_type": "code",
   "execution_count": 14,
   "metadata": {
    "ExecuteTime": {
     "end_time": "2020-12-13T15:19:09.580259Z",
     "start_time": "2020-12-13T15:19:09.562267Z"
    }
   },
   "outputs": [
    {
     "data": {
      "text/plain": [
       "[0, 2, 4, 6, 8]"
      ]
     },
     "execution_count": 14,
     "metadata": {},
     "output_type": "execute_result"
    }
   ],
   "source": [
    "list(map(lambda x : 2 * x, range(5)))"
   ]
  },
  {
   "cell_type": "markdown",
   "metadata": {},
   "source": [
    "对于map()函数：Python 2.x 返回列表；Python 3.x 返回迭代器。"
   ]
  },
  {
   "cell_type": "markdown",
   "metadata": {
    "ExecuteTime": {
     "end_time": "2020-12-13T15:22:18.024959Z",
     "start_time": "2020-12-13T15:22:18.008817Z"
    }
   },
   "source": [
    "对于多个输入值的函数映射，可以通过追加迭代对象实现："
   ]
  },
  {
   "cell_type": "code",
   "execution_count": 17,
   "metadata": {
    "ExecuteTime": {
     "end_time": "2020-12-13T15:23:34.136568Z",
     "start_time": "2020-12-13T15:23:34.115570Z"
    }
   },
   "outputs": [
    {
     "data": {
      "text/plain": [
       "['0_a', '1_b', '2_c', '3_d', '4_e']"
      ]
     },
     "execution_count": 17,
     "metadata": {},
     "output_type": "execute_result"
    }
   ],
   "source": [
    "list(map(lambda x, y: str(x)+'_'+y, range(5), list('abcde')))"
   ]
  },
  {
   "cell_type": "markdown",
   "metadata": {
    "ExecuteTime": {
     "end_time": "2020-12-13T15:23:45.590892Z",
     "start_time": "2020-12-13T15:23:45.575895Z"
    }
   },
   "source": [
    "### 3. zip对象与enumerate方法\n",
    "\n",
    "`zip`函数能够把多个可迭代对象打包成一个元组构成的可迭代对象，它返回了一个`zip`对象，通过`tuple`, `list`可以得到相应的打包结果："
   ]
  },
  {
   "cell_type": "code",
   "execution_count": 20,
   "metadata": {
    "ExecuteTime": {
     "end_time": "2020-12-13T15:25:05.980817Z",
     "start_time": "2020-12-13T15:25:05.955846Z"
    }
   },
   "outputs": [
    {
     "data": {
      "text/plain": [
       "[('a', 'e', 'h'), ('b', 'd', 'i'), ('c', 'f', 'j')]"
      ]
     },
     "execution_count": 20,
     "metadata": {},
     "output_type": "execute_result"
    }
   ],
   "source": [
    "L1, L2, L3 = list('abc'), list('edf'), list('hij')\n",
    "list(zip(L1, L2, L3))"
   ]
  },
  {
   "cell_type": "code",
   "execution_count": 23,
   "metadata": {
    "ExecuteTime": {
     "end_time": "2020-12-13T15:25:58.301685Z",
     "start_time": "2020-12-13T15:25:58.287691Z"
    }
   },
   "outputs": [
    {
     "data": {
      "text/plain": [
       "['a', 'b', 'c']"
      ]
     },
     "execution_count": 23,
     "metadata": {},
     "output_type": "execute_result"
    }
   ],
   "source": [
    "L1"
   ]
  },
  {
   "cell_type": "code",
   "execution_count": 21,
   "metadata": {
    "ExecuteTime": {
     "end_time": "2020-12-13T15:25:37.880531Z",
     "start_time": "2020-12-13T15:25:37.862539Z"
    }
   },
   "outputs": [
    {
     "data": {
      "text/plain": [
       "(('a', 'e', 'h'), ('b', 'd', 'i'), ('c', 'f', 'j'))"
      ]
     },
     "execution_count": 21,
     "metadata": {},
     "output_type": "execute_result"
    }
   ],
   "source": [
    "tuple(zip(L1, L2, L3))"
   ]
  },
  {
   "cell_type": "markdown",
   "metadata": {
    "ExecuteTime": {
     "end_time": "2020-12-13T15:26:12.386525Z",
     "start_time": "2020-12-13T15:26:12.369535Z"
    }
   },
   "source": [
    "往往会在循环迭代的时候使用到`zip`函数："
   ]
  },
  {
   "cell_type": "code",
   "execution_count": 25,
   "metadata": {
    "ExecuteTime": {
     "end_time": "2020-12-13T15:27:11.567438Z",
     "start_time": "2020-12-13T15:27:11.550915Z"
    }
   },
   "outputs": [
    {
     "name": "stdout",
     "output_type": "stream",
     "text": [
      "a e h\n",
      "b d i\n",
      "c f j\n"
     ]
    }
   ],
   "source": [
    "for i, j, k in zip(L1, L2, L3):\n",
    "    print(i, j, k)"
   ]
  },
  {
   "cell_type": "markdown",
   "metadata": {
    "ExecuteTime": {
     "end_time": "2020-12-13T15:27:49.741501Z",
     "start_time": "2020-12-13T15:27:49.725507Z"
    }
   },
   "source": [
    "`enumerate`是一种特殊的打包，它可以在迭代时绑定迭代元素的遍历序号："
   ]
  },
  {
   "cell_type": "code",
   "execution_count": 27,
   "metadata": {
    "ExecuteTime": {
     "end_time": "2020-12-13T15:29:09.405957Z",
     "start_time": "2020-12-13T15:29:09.388954Z"
    }
   },
   "outputs": [
    {
     "name": "stdout",
     "output_type": "stream",
     "text": [
      "0 a\n",
      "1 b\n",
      "2 c\n",
      "3 d\n"
     ]
    }
   ],
   "source": [
    "L = list('abcd')\n",
    "for index, value in enumerate(L):\n",
    "    print(index, value)"
   ]
  },
  {
   "cell_type": "markdown",
   "metadata": {},
   "source": [
    "用`zip`对象也能够简单地实现这个功能："
   ]
  },
  {
   "cell_type": "code",
   "execution_count": 30,
   "metadata": {
    "ExecuteTime": {
     "end_time": "2020-12-13T15:30:33.091242Z",
     "start_time": "2020-12-13T15:30:33.078244Z"
    }
   },
   "outputs": [
    {
     "name": "stdout",
     "output_type": "stream",
     "text": [
      "0 a\n",
      "1 b\n",
      "2 c\n",
      "3 d\n"
     ]
    }
   ],
   "source": [
    "for index, value in zip(range(len(L)), L):\n",
    "    print(index, value)"
   ]
  },
  {
   "cell_type": "markdown",
   "metadata": {},
   "source": [
    "当需要对两个列表建立字典映射时，可以利用`zip`对象："
   ]
  },
  {
   "cell_type": "code",
   "execution_count": 31,
   "metadata": {
    "ExecuteTime": {
     "end_time": "2020-12-13T15:31:03.185322Z",
     "start_time": "2020-12-13T15:31:03.168326Z"
    }
   },
   "outputs": [
    {
     "data": {
      "text/plain": [
       "{'a': 'e', 'b': 'd', 'c': 'f'}"
      ]
     },
     "execution_count": 31,
     "metadata": {},
     "output_type": "execute_result"
    }
   ],
   "source": [
    "dict(zip(L1, L2))"
   ]
  },
  {
   "cell_type": "markdown",
   "metadata": {},
   "source": [
    "既然有了压缩函数，那么`Python`也提供了`*`操作符和`zip`联合使用来进行解压操作："
   ]
  },
  {
   "cell_type": "code",
   "execution_count": 32,
   "metadata": {
    "ExecuteTime": {
     "end_time": "2020-12-13T15:31:56.004494Z",
     "start_time": "2020-12-13T15:31:55.984531Z"
    }
   },
   "outputs": [
    {
     "data": {
      "text/plain": [
       "[('a', 'e', 'h'), ('b', 'd', 'i'), ('c', 'f', 'j')]"
      ]
     },
     "execution_count": 32,
     "metadata": {},
     "output_type": "execute_result"
    }
   ],
   "source": [
    "zipped = list(zip(L1, L2, L3))\n",
    "zipped"
   ]
  },
  {
   "cell_type": "code",
   "execution_count": 33,
   "metadata": {
    "ExecuteTime": {
     "end_time": "2020-12-13T15:32:12.053084Z",
     "start_time": "2020-12-13T15:32:12.034092Z"
    }
   },
   "outputs": [
    {
     "data": {
      "text/plain": [
       "[('a', 'b', 'c'), ('e', 'd', 'f'), ('h', 'i', 'j')]"
      ]
     },
     "execution_count": 33,
     "metadata": {},
     "output_type": "execute_result"
    }
   ],
   "source": [
    "list(zip(*zipped))"
   ]
  },
  {
   "cell_type": "code",
   "execution_count": 34,
   "metadata": {
    "ExecuteTime": {
     "end_time": "2020-12-13T15:32:21.175046Z",
     "start_time": "2020-12-13T15:32:21.156050Z"
    }
   },
   "outputs": [
    {
     "data": {
      "text/plain": [
       "<zip at 0x26a31c65480>"
      ]
     },
     "execution_count": 34,
     "metadata": {},
     "output_type": "execute_result"
    }
   ],
   "source": [
    "zip(*zipped) # zip类型需要转化成为list或tuple\n",
    "# 报错：*zipped"
   ]
  },
  {
   "cell_type": "code",
   "execution_count": null,
   "metadata": {},
   "outputs": [],
   "source": []
  }
 ],
 "metadata": {
  "hide_input": false,
  "kernelspec": {
   "display_name": "Python 3",
   "language": "python",
   "name": "python3"
  },
  "language_info": {
   "codemirror_mode": {
    "name": "ipython",
    "version": 3
   },
   "file_extension": ".py",
   "mimetype": "text/x-python",
   "name": "python",
   "nbconvert_exporter": "python",
   "pygments_lexer": "ipython3",
   "version": "3.8.3"
  },
  "varInspector": {
   "cols": {
    "lenName": 16,
    "lenType": 16,
    "lenVar": 40
   },
   "kernels_config": {
    "python": {
     "delete_cmd_postfix": "",
     "delete_cmd_prefix": "del ",
     "library": "var_list.py",
     "varRefreshCmd": "print(var_dic_list())"
    },
    "r": {
     "delete_cmd_postfix": ") ",
     "delete_cmd_prefix": "rm(",
     "library": "var_list.r",
     "varRefreshCmd": "cat(var_dic_list()) "
    }
   },
   "types_to_exclude": [
    "module",
    "function",
    "builtin_function_or_method",
    "instance",
    "_Feature"
   ],
   "window_display": false
  }
 },
 "nbformat": 4,
 "nbformat_minor": 4
}
